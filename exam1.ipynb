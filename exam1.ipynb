{
 "cells": [
  {
   "cell_type": "code",
   "execution_count": 2,
   "metadata": {},
   "outputs": [],
   "source": [
    "import numpy as np \n",
    "import pandas as pd"
   ]
  },
  {
   "cell_type": "code",
   "execution_count": 6,
   "metadata": {},
   "outputs": [],
   "source": [
    "C = np.array([[1, 2, 1],\n",
    "              [6, -1, 0],\n",
    "              [-1, -2, -1]])\n",
    "\n",
    "cov = np.cov(C)\n",
    "\n"
   ]
  },
  {
   "cell_type": "code",
   "execution_count": 10,
   "metadata": {},
   "outputs": [
    {
     "data": {
      "text/plain": [
       "array([-4.00000000e+00,  3.00000000e+00,  9.61673584e-17])"
      ]
     },
     "execution_count": 10,
     "metadata": {},
     "output_type": "execute_result"
    }
   ],
   "source": [
    "M = np.array([[1, 2, 1], [6, -1, 0], [-1, -2, -1]])\n",
    "E = np.array ([2,3,-2])\n",
    "eigenvalues, eigenvectors = np.linalg.eig(M)\n",
    "eigenvalues\n"
   ]
  },
  {
   "cell_type": "code",
   "execution_count": 14,
   "metadata": {},
   "outputs": [
    {
     "data": {
      "text/plain": [
       "(array([ 0.,  0., -0.]), array([-4., -4., -4.]), array([3., 3., 3.]))"
      ]
     },
     "execution_count": 14,
     "metadata": {},
     "output_type": "execute_result"
    }
   ],
   "source": [
    "C = np.array([\n",
    "    [1, 2, 1],\n",
    "    [6, -1, 0],\n",
    "    [-1, -2, -1]\n",
    "])\n",
    "\n",
    "# Eigenvectors (as columns of the matrix)\n",
    "ev1 = np.array([1, 6, -13])\n",
    "ev2 = np.array([-1, 2, 1])\n",
    "ev3 = np.array([2, 3, -2])\n",
    "\n",
    "# Calculate the eigenvalues by multiplying the covariance matrix with each eigenvector\n",
    "lambda_ev1 = np.dot(C, ev1) / ev1\n",
    "lambda_ev2 = np.dot(C, ev2) / ev2\n",
    "lambda_ev3 = np.dot(C, ev3) / ev3\n",
    "\n",
    "lambda_ev1, lambda_ev2, lambda_ev3"
   ]
  },
  {
   "cell_type": "code",
   "execution_count": 15,
   "metadata": {},
   "outputs": [
    {
     "name": "stdout",
     "output_type": "stream",
     "text": [
      "The probability of obtaining the data points [0, 0, 1, 1] is: 0.0013418505116100476\n"
     ]
    }
   ],
   "source": [
    "import numpy as np\n",
    "from scipy.stats import poisson\n",
    "\n",
    "# Given data\n",
    "data_points = [0, 0, 1, 1]\n",
    "lambda_val = 2  # Given lambda value for the Poisson distribution\n",
    "\n",
    "# Calculate the probability for each data point using the Poisson PMF\n",
    "probabilities = [poisson.pmf(x, lambda_val) for x in data_points]\n",
    "\n",
    "# Multiply all the probabilities together to get the final probability\n",
    "final_probability = np.prod(probabilities)\n",
    "\n",
    "print(\"The probability of obtaining the data points [0, 0, 1, 1] is:\", final_probability)\n"
   ]
  },
  {
   "cell_type": "code",
   "execution_count": 3,
   "metadata": {},
   "outputs": [
    {
     "name": "stdout",
     "output_type": "stream",
     "text": [
      "[[-2  4]\n",
      " [ 1 -1]]\n"
     ]
    }
   ],
   "source": [
    "A = np.array([[2,1], [-1,0]])\n",
    "B = np.array([[-1,1], [0,2]])\n",
    "AB = np.dot(A,B)    \n",
    "print(AB)"
   ]
  },
  {
   "cell_type": "code",
   "execution_count": 27,
   "metadata": {},
   "outputs": [
    {
     "data": {
      "text/plain": [
       "array([[-0.09,  0.71, -0.7 ],\n",
       "       [ 0.99,  0.  , -0.13],\n",
       "       [ 0.09,  0.71,  0.7 ]])"
      ]
     },
     "execution_count": 27,
     "metadata": {},
     "output_type": "execute_result"
    }
   ],
   "source": [
    "eigenvalues, eigenvectors = np.linalg.eig(cov)\n",
    "eigenvalues = np.sort(eigenvalues)[::-1]\n",
    "eigenvalues = np.round(eigenvalues, 2)\n",
    "eigenvectors = np.round(eigenvectors, 2)\n",
    "eigenvectors"
   ]
  },
  {
   "cell_type": "code",
   "execution_count": 38,
   "metadata": {},
   "outputs": [
    {
     "data": {
      "text/plain": [
       "array([ -3, -17])"
      ]
     },
     "execution_count": 38,
     "metadata": {},
     "output_type": "execute_result"
    }
   ],
   "source": [
    "v = np.array([2, -1, 1])\n",
    "w = np.array([[-1,2,1], \n",
    "             [1,6,-13]])\n",
    "projection = np.dot(v, w.T)\n",
    "projection"
   ]
  },
  {
   "cell_type": "markdown",
   "metadata": {},
   "source": []
  },
  {
   "cell_type": "markdown",
   "metadata": {},
   "source": []
  },
  {
   "cell_type": "code",
   "execution_count": 42,
   "metadata": {},
   "outputs": [
    {
     "name": "stdout",
     "output_type": "stream",
     "text": [
      "Ward's distance: 40.0\n"
     ]
    }
   ],
   "source": [
    "\n",
    "red_points = np.array([[-2, -2], [-2, 2],[ -4, 0 ], [0,0]])\n",
    "blue_points = np.array([[0, 2], [2, 0], [4, 2], [2,4]])\n",
    "\n",
    "red_centroid = np.mean(red_points, axis=0)\n",
    "blue_centroid = np.mean(blue_points, axis=0)\n",
    "\n",
    "n_red = len(red_points)\n",
    "n_blue = len(blue_points)\n",
    "\n",
    "squared_distance = np.sum((red_centroid - blue_centroid)**2)\n",
    "ward_distance = squared_distance * (n_red * n_blue) / (n_red + n_blue)\n",
    "\n",
    "print(f\"Ward's distance: {ward_distance}\")"
   ]
  },
  {
   "cell_type": "code",
   "execution_count": 43,
   "metadata": {},
   "outputs": [
    {
     "name": "stdout",
     "output_type": "stream",
     "text": [
      "Probability: 0.00018159971904993944\n"
     ]
    }
   ],
   "source": [
    "import math\n",
    "\n",
    "lambda_param = 2\n",
    "data = [0, 0, 1, 1, 0]\n",
    "\n",
    "def poisson_prob(k, lambda_param):\n",
    "    return (lambda_param**k * math.exp(-lambda_param)) / math.factorial(k)\n",
    "\n",
    "probability = 1\n",
    "for point in data:\n",
    "    probability *= poisson_prob(point, lambda_param)\n",
    "\n",
    "print(f\"Probability: {probability}\")"
   ]
  }
 ],
 "metadata": {
  "kernelspec": {
   "display_name": "hw0",
   "language": "python",
   "name": "python3"
  },
  "language_info": {
   "codemirror_mode": {
    "name": "ipython",
    "version": 3
   },
   "file_extension": ".py",
   "mimetype": "text/x-python",
   "name": "python",
   "nbconvert_exporter": "python",
   "pygments_lexer": "ipython3",
   "version": "3.7.12"
  }
 },
 "nbformat": 4,
 "nbformat_minor": 2
}
